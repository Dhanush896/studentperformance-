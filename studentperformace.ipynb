{
 "cells": [
  {
   "cell_type": "code",
   "execution_count": 2,
   "id": "measured-water",
   "metadata": {},
   "outputs": [],
   "source": [
    "import pandas as pd\n",
    "import numpy as np\n",
    "import seaborn as sns\n",
    "import matplotlib.pyplot as plt\n",
    "import warnings\n",
    "from scipy.stats import poisson\n",
    "%matplotlib inline\n",
    "warnings.filterwarnings('ignore')\n",
    "from openpyxl import workbook,load_workbook\n",
    "from openpyxl.workbook.workbook import Workbook\n",
    "primary_list = []"
   ]
  },
  {
   "cell_type": "code",
   "execution_count": 3,
   "id": "undefined-ecology",
   "metadata": {},
   "outputs": [],
   "source": [
    "class Node:\n",
    "    def __init__(self, data):\n",
    "        self.left = None\n",
    "        self.right = None\n",
    "        self.data=data\n",
    "\n",
    "    def insert(self, data):\n",
    "        if self.data:\n",
    "            if data[0:7] < self.data[0:7]:\n",
    "                if self.left is None:\n",
    "                    self.left = Node(data)\n",
    "                else:\n",
    "                    self.left.insert(data)\n",
    "            elif data[0:7] > self.data[0:7]:\n",
    "                if self.right is None:\n",
    "                    self.right = Node(data)\n",
    "                else:\n",
    "                    self.right.insert(data)\n",
    "        else:\n",
    "            self.data = data\n",
    "    \n",
    "    def PrintTree(self):\n",
    "        if self.left:\n",
    "            self.left.PrintTree()\n",
    "        print( self.data)\n",
    "        if self.right:\n",
    "            self.right.PrintTree()\n",
    "\n",
    "    def search(self, root, element):\n",
    "        try:\n",
    "            if root is None or root.data[0:7] == element[0:7]:\n",
    "                return root.data\n",
    "            elif (root.data[0:7] > element[0:7]):\n",
    "                return self.search(root.left, element)\n",
    "            elif (root.data[0:7] < element[0:7]):\n",
    "                return self.search(root.right, element)\n",
    "        except Exception as e:\n",
    "            e=\"No such data exist !\"\n",
    "            return e\n",
    "\n",
    "    def inorderTraversal(self, root):\n",
    "        res = []\n",
    "        if root:\n",
    "            res = self.inorderTraversal(root.left)\n",
    "            res.append(root.data)\n",
    "            res = res + self.inorderTraversal(root.right)\n",
    "        return res\n",
    "    \n",
    "    def minValueNode(self,root):\n",
    "        current = root\n",
    "        while (current.left is not None):\n",
    "            current = current.left\n",
    "        return current\n",
    "\n",
    "    def deleteNode(self,root,key):\n",
    "        if root is None:\n",
    "            return root\n",
    "        if (key[0:7] < root.data[0:7]):\n",
    "            root.left = self.deleteNode(root.left,key)\n",
    "        elif (key[0:7] > root.data[0:7]):\n",
    "            root.right = self.deleteNode(root.right,key)\n",
    "        else:\n",
    "            if root.left is None:\n",
    "                temp = root.right\n",
    "                root = None\n",
    "                return temp\n",
    "            elif root.right is None:\n",
    "                temp=root.left\n",
    "                root=None\n",
    "                return temp\n",
    "            temp = self.minValueNode(root.right)\n",
    "            root.data=temp.data\n",
    "            root.right=self.deleteNode(root.right ,temp.data)\n",
    "        return root "
   ]
  },
  {
   "cell_type": "code",
   "execution_count": 4,
   "id": "russian-pathology",
   "metadata": {},
   "outputs": [
    {
     "name": "stdout",
     "output_type": "stream",
     "text": [
      "\n",
      "\n",
      "----------------Students Record DataBase----------------------\n",
      "\n",
      "1. Insert Students Detail\n",
      "\n",
      "2. Display Students Details\n",
      "\n",
      "3. Delete Students Details\n",
      "\n",
      "4. Search Students Details\n",
      "\n",
      "5. save as excel\n",
      "\n",
      "6. Exit\n",
      "--------------------------------------------------------------\n",
      "\n",
      "\n",
      "Enter your Choice : 1\n",
      "\n",
      "\n",
      "Enter How many Students details to be inserted : 2\n",
      "\n",
      "\n",
      "Enter the details of the student : 2032044    ram      98    95   96\n",
      "\n",
      "\n",
      "Enter the details of the student : 2032045     ravi  45  69  89\n",
      "\n",
      "\n",
      "----------------Students Record DataBase----------------------\n",
      "\n",
      "1. Insert Students Detail\n",
      "\n",
      "2. Display Students Details\n",
      "\n",
      "3. Delete Students Details\n",
      "\n",
      "4. Search Students Details\n",
      "\n",
      "5. save as excel\n",
      "\n",
      "6. Exit\n",
      "--------------------------------------------------------------\n",
      "\n",
      "\n",
      "Enter your Choice : 2\n",
      "\n",
      "\n",
      "Display Options \n",
      "\n",
      "1.Print the sorted Tree\n",
      "\n",
      "2.Print inoder Traversal\n",
      "\n",
      "Enter your choice : 1\n",
      "\n",
      "---------------------------------------------------------------\n",
      "Rollno     Student Name    Sub1      Sub2     Sub3\n",
      "2032002    Akshay          90        99       95\n",
      "2032004    Anbu            100       90       95\n",
      "2032006    Avudai          100       90       95\n",
      "2032007    Balaji          100       90       95\n",
      "2032041    Sri             90        99       88\n",
      "2032042    Sripathy        100       90       95\n",
      "2032044    ram      98    95   96\n",
      "2032045     ravi  45  69  89\n",
      "2032047    Theeraj         100       90       85\n",
      "---------------------------------------------------------------\n",
      "\n",
      "\n",
      "\n",
      "----------------Students Record DataBase----------------------\n",
      "\n",
      "1. Insert Students Detail\n",
      "\n",
      "2. Display Students Details\n",
      "\n",
      "3. Delete Students Details\n",
      "\n",
      "4. Search Students Details\n",
      "\n",
      "5. save as excel\n",
      "\n",
      "6. Exit\n",
      "--------------------------------------------------------------\n",
      "\n",
      "\n",
      "Enter your Choice : 5\n",
      "\n",
      "\n",
      "----------------Students Record DataBase----------------------\n",
      "\n",
      "1. Insert Students Detail\n",
      "\n",
      "2. Display Students Details\n",
      "\n",
      "3. Delete Students Details\n",
      "\n",
      "4. Search Students Details\n",
      "\n",
      "5. save as excel\n",
      "\n",
      "6. Exit\n",
      "--------------------------------------------------------------\n",
      "\n",
      "\n",
      "Enter your Choice : 6\n"
     ]
    }
   ],
   "source": [
    "r=1\n",
    "while r!=0:\n",
    "    #node creation\n",
    "    print(\"\\n\\n----------------Students Record DataBase----------------------\")\n",
    "    print(\"\\n1. Insert Students Detail\")\n",
    "    print(\"\\n2. Display Students Details\")\n",
    "    print(\"\\n3. Delete Students Details\")\n",
    "    print(\"\\n4. Search Students Details\")\n",
    "    print(\"\\n5. save as excel\")\n",
    "    print(\"\\n6. Exit\")\n",
    "    print(\"--------------------------------------------------------------\")\n",
    "    op = int(input(\"\\n\\nEnter your Choice : \"))\n",
    "    if op ==1:\n",
    "        root = Node(\"2032007    Balaji          100       90       95\")\n",
    "        root.insert(\"2032002    Akshay          90        99       95\")\n",
    "        root.insert(\"2032006    Avudai          100       90       95\")\n",
    "        root.insert(\"2032004    Anbu            100       90       95\")\n",
    "        root.insert(\"2032041    Sri             90        99       88\")\n",
    "        root.insert(\"2032042    Sripathy        100       90       95\")\n",
    "        root.insert(\"2032047    Theeraj         100       90       85\")\n",
    "        n=int(input(\"\\n\\nEnter How many Students details to be inserted : \"))\n",
    "        for i in range(1,n+1):\n",
    "          str=input(\"\\n\\nEnter the details of the student : \")\n",
    "          root.insert(str)\n",
    "    elif op == 2:\n",
    "        print(\"\\n\\nDisplay Options \")\n",
    "        print(\"\\n1.Print the sorted Tree\")\n",
    "        print(\"\\n2.Print inoder Traversal\")\n",
    "        ch = int(input(\"\\nEnter your choice : \"))\n",
    "        if ch == 1:\n",
    "            print(\"\\n---------------------------------------------------------------\")\n",
    "            print(\"Rollno     Student Name    Sub1      Sub2     Sub3\")\n",
    "            root.PrintTree()\n",
    "            print(\"---------------------------------------------------------------\\n\")\n",
    "        elif ch == 2:\n",
    "            print(root.inorderTraversal(root))\n",
    "\n",
    "    elif op == 3:\n",
    "        print(\"\\n\\nDeletion in Students record \")\n",
    "        n=int(input(\"\\nEnter how many Students number to be deleted : \"))\n",
    "        for i in range(1,n+1):\n",
    "          str=input(\"\\nEnter the Roll No of the student to be deleted:\")\n",
    "          root.deleteNode(root,str)\n",
    "        print(\"\\nAfter deletion Modified Binary tree is :\")\n",
    "        print(\"-------------------------------------------------------------------\")\n",
    "        print(\"Rollno     Student Name    Sub1      Sub2     Sub3\")\n",
    "        root.PrintTree()\n",
    "        print(\"-------------------------------------------------------------------\\n\")\n",
    "    elif op == 4:\n",
    "        print(\"\\n\\nSearch Students Detail \")\n",
    "        str=input(\"\\nEnter the students Roll No : \")\n",
    "        print(root.search(root,str))\n",
    "    \n",
    "    elif op == 5:\n",
    "        temp_list=[]\n",
    "        wb = Workbook()\n",
    "        ws = wb.active\n",
    "        ws.title = \"Dataset\"\n",
    "        ws.append(['Roll_no','Names','Mark1','Mark2','Mark3'])\n",
    "        for i in range(0,len(root.inorderTraversal(root))):\n",
    "            temp_list.append(root.inorderTraversal(root).pop(i))\n",
    "        for i in range(len(temp_list)):\n",
    "            primary_list.append(temp_list.pop())\n",
    "            x = primary_list.pop()\n",
    "            y = x.split()\n",
    "            ws.append(y)\n",
    "        wb.save('School Record.xlsx')\n",
    "    elif op == 6:\n",
    "        r=0\n",
    "    else:\n",
    "        print(\"\\n Try again \")\n",
    "\n",
    "\n"
   ]
  },
  {
   "cell_type": "code",
   "execution_count": 5,
   "id": "organized-engagement",
   "metadata": {},
   "outputs": [
    {
     "data": {
      "text/html": [
       "<div>\n",
       "<style scoped>\n",
       "    .dataframe tbody tr th:only-of-type {\n",
       "        vertical-align: middle;\n",
       "    }\n",
       "\n",
       "    .dataframe tbody tr th {\n",
       "        vertical-align: top;\n",
       "    }\n",
       "\n",
       "    .dataframe thead th {\n",
       "        text-align: right;\n",
       "    }\n",
       "</style>\n",
       "<table border=\"1\" class=\"dataframe\">\n",
       "  <thead>\n",
       "    <tr style=\"text-align: right;\">\n",
       "      <th></th>\n",
       "      <th>Roll_no</th>\n",
       "      <th>Names</th>\n",
       "      <th>Mark1</th>\n",
       "      <th>Mark2</th>\n",
       "      <th>Mark3</th>\n",
       "    </tr>\n",
       "  </thead>\n",
       "  <tbody>\n",
       "    <tr>\n",
       "      <th>0</th>\n",
       "      <td>2032047</td>\n",
       "      <td>Theeraj</td>\n",
       "      <td>100</td>\n",
       "      <td>90</td>\n",
       "      <td>85</td>\n",
       "    </tr>\n",
       "    <tr>\n",
       "      <th>1</th>\n",
       "      <td>2032045</td>\n",
       "      <td>ravi</td>\n",
       "      <td>45</td>\n",
       "      <td>69</td>\n",
       "      <td>89</td>\n",
       "    </tr>\n",
       "    <tr>\n",
       "      <th>2</th>\n",
       "      <td>2032044</td>\n",
       "      <td>ram</td>\n",
       "      <td>98</td>\n",
       "      <td>95</td>\n",
       "      <td>96</td>\n",
       "    </tr>\n",
       "    <tr>\n",
       "      <th>3</th>\n",
       "      <td>2032042</td>\n",
       "      <td>Sripathy</td>\n",
       "      <td>100</td>\n",
       "      <td>90</td>\n",
       "      <td>95</td>\n",
       "    </tr>\n",
       "    <tr>\n",
       "      <th>4</th>\n",
       "      <td>2032041</td>\n",
       "      <td>Sri</td>\n",
       "      <td>90</td>\n",
       "      <td>99</td>\n",
       "      <td>88</td>\n",
       "    </tr>\n",
       "  </tbody>\n",
       "</table>\n",
       "</div>"
      ],
      "text/plain": [
       "   Roll_no     Names  Mark1  Mark2  Mark3\n",
       "0  2032047   Theeraj    100     90     85\n",
       "1  2032045      ravi     45     69     89\n",
       "2  2032044       ram     98     95     96\n",
       "3  2032042  Sripathy    100     90     95\n",
       "4  2032041       Sri     90     99     88"
      ]
     },
     "execution_count": 5,
     "metadata": {},
     "output_type": "execute_result"
    }
   ],
   "source": [
    "df = pd.read_excel ('School Record.xlsx')\n",
    "df.head()"
   ]
  },
  {
   "cell_type": "code",
   "execution_count": 14,
   "id": "earned-roommate",
   "metadata": {},
   "outputs": [
    {
     "data": {
      "text/html": [
       "<div>\n",
       "<style scoped>\n",
       "    .dataframe tbody tr th:only-of-type {\n",
       "        vertical-align: middle;\n",
       "    }\n",
       "\n",
       "    .dataframe tbody tr th {\n",
       "        vertical-align: top;\n",
       "    }\n",
       "\n",
       "    .dataframe thead th {\n",
       "        text-align: right;\n",
       "    }\n",
       "</style>\n",
       "<table border=\"1\" class=\"dataframe\">\n",
       "  <thead>\n",
       "    <tr style=\"text-align: right;\">\n",
       "      <th></th>\n",
       "      <th>Roll_no</th>\n",
       "      <th>Mark1</th>\n",
       "      <th>Mark2</th>\n",
       "      <th>Mark3</th>\n",
       "    </tr>\n",
       "  </thead>\n",
       "  <tbody>\n",
       "    <tr>\n",
       "      <th>count</th>\n",
       "      <td>9.000000e+00</td>\n",
       "      <td>9.000000</td>\n",
       "      <td>9.000000</td>\n",
       "      <td>9.000000</td>\n",
       "    </tr>\n",
       "    <tr>\n",
       "      <th>mean</th>\n",
       "      <td>2.032026e+06</td>\n",
       "      <td>91.444444</td>\n",
       "      <td>90.222222</td>\n",
       "      <td>92.555556</td>\n",
       "    </tr>\n",
       "    <tr>\n",
       "      <th>std</th>\n",
       "      <td>2.069487e+01</td>\n",
       "      <td>17.924223</td>\n",
       "      <td>8.856887</td>\n",
       "      <td>4.065437</td>\n",
       "    </tr>\n",
       "    <tr>\n",
       "      <th>min</th>\n",
       "      <td>2.032002e+06</td>\n",
       "      <td>45.000000</td>\n",
       "      <td>69.000000</td>\n",
       "      <td>85.000000</td>\n",
       "    </tr>\n",
       "    <tr>\n",
       "      <th>25%</th>\n",
       "      <td>2.032006e+06</td>\n",
       "      <td>90.000000</td>\n",
       "      <td>90.000000</td>\n",
       "      <td>89.000000</td>\n",
       "    </tr>\n",
       "    <tr>\n",
       "      <th>50%</th>\n",
       "      <td>2.032041e+06</td>\n",
       "      <td>100.000000</td>\n",
       "      <td>90.000000</td>\n",
       "      <td>95.000000</td>\n",
       "    </tr>\n",
       "    <tr>\n",
       "      <th>75%</th>\n",
       "      <td>2.032044e+06</td>\n",
       "      <td>100.000000</td>\n",
       "      <td>95.000000</td>\n",
       "      <td>95.000000</td>\n",
       "    </tr>\n",
       "    <tr>\n",
       "      <th>max</th>\n",
       "      <td>2.032047e+06</td>\n",
       "      <td>100.000000</td>\n",
       "      <td>99.000000</td>\n",
       "      <td>96.000000</td>\n",
       "    </tr>\n",
       "  </tbody>\n",
       "</table>\n",
       "</div>"
      ],
      "text/plain": [
       "            Roll_no       Mark1      Mark2      Mark3\n",
       "count  9.000000e+00    9.000000   9.000000   9.000000\n",
       "mean   2.032026e+06   91.444444  90.222222  92.555556\n",
       "std    2.069487e+01   17.924223   8.856887   4.065437\n",
       "min    2.032002e+06   45.000000  69.000000  85.000000\n",
       "25%    2.032006e+06   90.000000  90.000000  89.000000\n",
       "50%    2.032041e+06  100.000000  90.000000  95.000000\n",
       "75%    2.032044e+06  100.000000  95.000000  95.000000\n",
       "max    2.032047e+06  100.000000  99.000000  96.000000"
      ]
     },
     "execution_count": 14,
     "metadata": {},
     "output_type": "execute_result"
    }
   ],
   "source": [
    "# statistical info\n",
    "df.describe()"
   ]
  },
  {
   "cell_type": "code",
   "execution_count": 7,
   "id": "yellow-medline",
   "metadata": {},
   "outputs": [
    {
     "name": "stdout",
     "output_type": "stream",
     "text": [
      "<class 'pandas.core.frame.DataFrame'>\n",
      "RangeIndex: 9 entries, 0 to 8\n",
      "Data columns (total 5 columns):\n",
      " #   Column   Non-Null Count  Dtype \n",
      "---  ------   --------------  ----- \n",
      " 0   Roll_no  9 non-null      int64 \n",
      " 1   Names    9 non-null      object\n",
      " 2   Mark1    9 non-null      int64 \n",
      " 3   Mark2    9 non-null      int64 \n",
      " 4   Mark3    9 non-null      int64 \n",
      "dtypes: int64(4), object(1)\n",
      "memory usage: 488.0+ bytes\n"
     ]
    }
   ],
   "source": [
    "# datatype of attributes\n",
    "df.info()"
   ]
  },
  {
   "cell_type": "code",
   "execution_count": 8,
   "id": "three-bracket",
   "metadata": {},
   "outputs": [
    {
     "data": {
      "text/plain": [
       "<AxesSubplot:xlabel='Mark1', ylabel='count'>"
      ]
     },
     "execution_count": 8,
     "metadata": {},
     "output_type": "execute_result"
    },
    {
     "data": {
      "image/png": "[encoded data removed]",
      "text/plain": [
       "<Figure size 432x288 with 1 Axes>"
      ]
     },
     "metadata": {
      "needs_background": "light"
     },
     "output_type": "display_data"
    }
   ],
   "source": [
    "sns.countplot(df[\"Mark1\"])"
   ]
  },
  {
   "cell_type": "code",
   "execution_count": 9,
   "id": "mounted-interval",
   "metadata": {},
   "outputs": [
    {
     "data": {
      "text/plain": [
       "<AxesSubplot:xlabel='Mark2', ylabel='Density'>"
      ]
     },
     "execution_count": 9,
     "metadata": {},
     "output_type": "execute_result"
    },
    {
     "data": {
      "image/png": "[encoded data removed]",
      "text/plain": [
       "<Figure size 432x288 with 1 Axes>"
      ]
     },
     "metadata": {
      "needs_background": "light"
     },
     "output_type": "display_data"
    }
   ],
   "source": [
    "sns.distplot(df['Mark2'])"
   ]
  },
  {
   "cell_type": "code",
   "execution_count": 10,
   "id": "spectacular-palestinian",
   "metadata": {},
   "outputs": [
    {
     "data": {
      "text/plain": [
       "<AxesSubplot:xlabel='Mark3', ylabel='Density'>"
      ]
     },
     "execution_count": 10,
     "metadata": {},
     "output_type": "execute_result"
    },
    {
     "data": {
      "image/png": "[encoded data removed]",
      "text/plain": [
       "<Figure size 432x288 with 1 Axes>"
      ]
     },
     "metadata": {
      "needs_background": "light"
     },
     "output_type": "display_data"
    }
   ],
   "source": [
    "sns.distplot(df['Mark3'])"
   ]
  },
  {
   "cell_type": "code",
   "execution_count": 11,
   "id": "classical-strain",
   "metadata": {},
   "outputs": [
    {
     "data": {
      "text/plain": [
       "<AxesSubplot:>"
      ]
     },
     "execution_count": 11,
     "metadata": {},
     "output_type": "execute_result"
    },
    {
     "data": {
      "image/png": "[encoded data removed]",
      "text/plain": [
       "<Figure size 432x288 with 2 Axes>"
      ]
     },
     "metadata": {
      "needs_background": "light"
     },
     "output_type": "display_data"
    }
   ],
   "source": [
    "corr = df.corr()\n",
    "sns.heatmap(corr, annot=True, cmap='coolwarm')"
   ]
  },
  {
   "cell_type": "code",
   "execution_count": 81,
   "id": "fixed-slide",
   "metadata": {},
   "outputs": [
    {
     "name": "stdout",
     "output_type": "stream",
     "text": [
      "0    100\n",
      "1     45\n",
      "2     98\n",
      "3    100\n",
      "4     90\n",
      "5    100\n",
      "6    100\n",
      "7    100\n",
      "8     90\n",
      "Name: Mark1, dtype: int64\n"
     ]
    }
   ],
   "source": [
    "s=df.iloc[0:9,2]\n",
    "print(s)"
   ]
  },
  {
   "cell_type": "code",
   "execution_count": 82,
   "id": "present-capitol",
   "metadata": {},
   "outputs": [
    {
     "data": {
      "text/plain": [
       "91.44444444444444"
      ]
     },
     "execution_count": 82,
     "metadata": {},
     "output_type": "execute_result"
    }
   ],
   "source": [
    "a1=s.mean()\n",
    "a1"
   ]
  },
  {
   "cell_type": "code",
   "execution_count": 83,
   "id": "musical-tribute",
   "metadata": {},
   "outputs": [
    {
     "name": "stdout",
     "output_type": "stream",
     "text": [
      "0    90\n",
      "1    69\n",
      "2    95\n",
      "3    90\n",
      "4    99\n",
      "5    90\n",
      "6    90\n",
      "7    90\n",
      "8    99\n",
      "Name: Mark2, dtype: int64\n"
     ]
    }
   ],
   "source": [
    "s1=df.iloc[0:9,3]\n",
    "print(s1)"
   ]
  },
  {
   "cell_type": "code",
   "execution_count": 84,
   "id": "circular-reliance",
   "metadata": {},
   "outputs": [
    {
     "data": {
      "text/plain": [
       "90.22222222222223"
      ]
     },
     "execution_count": 84,
     "metadata": {},
     "output_type": "execute_result"
    }
   ],
   "source": [
    "a2=s1.mean()\n",
    "a2"
   ]
  },
  {
   "cell_type": "code",
   "execution_count": 85,
   "id": "julian-arbor",
   "metadata": {},
   "outputs": [
    {
     "name": "stdout",
     "output_type": "stream",
     "text": [
      "0    85\n",
      "1    89\n",
      "2    96\n",
      "3    95\n",
      "4    88\n",
      "5    95\n",
      "6    95\n",
      "7    95\n",
      "8    95\n",
      "Name: Mark3, dtype: int64\n"
     ]
    }
   ],
   "source": [
    "s2=df.iloc[0:9,4]\n",
    "print(s2)"
   ]
  },
  {
   "cell_type": "code",
   "execution_count": 86,
   "id": "conceptual-content",
   "metadata": {},
   "outputs": [
    {
     "data": {
      "text/plain": [
       "92.55555555555556"
      ]
     },
     "execution_count": 86,
     "metadata": {},
     "output_type": "execute_result"
    }
   ],
   "source": [
    "a3=s2.mean()\n",
    "a3"
   ]
  },
  {
   "cell_type": "code",
   "execution_count": 88,
   "id": "architectural-slovenia",
   "metadata": {},
   "outputs": [
    {
     "data": {
      "text/plain": [
       "[Text(0.5, 0, 'Poisson Distribution'), Text(0, 0.5, 'Frequency')]"
      ]
     },
     "execution_count": 88,
     "metadata": {},
     "output_type": "execute_result"
    },
    {
     "data": {
      "image/png": "[encoded data removed]",
      "text/plain": [
       "<Figure size 432x288 with 1 Axes>"
      ]
     },
     "metadata": {
      "needs_background": "light"
     },
     "output_type": "display_data"
    }
   ],
   "source": [
    "data_poisson = poisson.rvs(mu=a1, size=1000)\n",
    "ax = sns.distplot(data_poisson,\n",
    "                  bins=30,\n",
    "                  kde=True,\n",
    "                  color='skyblue',\n",
    "                  hist_kws={\"linewidth\": 25,'alpha':1})\n",
    "ax.set(xlabel='Poisson Distribution', ylabel='Frequency')"
   ]
  },
  {
   "cell_type": "code",
   "execution_count": 89,
   "id": "configured-fundamental",
   "metadata": {},
   "outputs": [
    {
     "data": {
      "text/plain": [
       "[Text(0.5, 0, 'Poisson Distribution'), Text(0, 0.5, 'Frequency')]"
      ]
     },
     "execution_count": 89,
     "metadata": {},
     "output_type": "execute_result"
    },
    {
     "data": {
      "image/png": "[encoded data removed]",
      "text/plain": [
       "<Figure size 432x288 with 1 Axes>"
      ]
     },
     "metadata": {
      "needs_background": "light"
     },
     "output_type": "display_data"
    }
   ],
   "source": [
    "data_poisson = poisson.rvs(mu=a2, size=1000)\n",
    "ax = sns.distplot(data_poisson,\n",
    "                  bins=30,\n",
    "                  kde=True,\n",
    "                  color='skyblue',\n",
    "                  hist_kws={\"linewidth\": 25,'alpha':1})\n",
    "ax.set(xlabel='Poisson Distribution', ylabel='Frequency')"
   ]
  },
  {
   "cell_type": "code",
   "execution_count": 90,
   "id": "silver-noise",
   "metadata": {},
   "outputs": [
    {
     "data": {
      "text/plain": [
       "[Text(0.5, 0, 'Poisson Distribution'), Text(0, 0.5, 'Frequency')]"
      ]
     },
     "execution_count": 90,
     "metadata": {},
     "output_type": "execute_result"
    },
    {
     "data": {
      "image/png": "[encoded data removed]",
      "text/plain": [
       "<Figure size 432x288 with 1 Axes>"
      ]
     },
     "metadata": {
      "needs_background": "light"
     },
     "output_type": "display_data"
    }
   ],
   "source": [
    "data_poisson = poisson.rvs(mu=a3, size=1000)\n",
    "ax = sns.distplot(data_poisson,\n",
    "                  bins=30,\n",
    "                  kde=True,\n",
    "                  color='skyblue',\n",
    "                  hist_kws={\"linewidth\": 25,'alpha':1})\n",
    "ax.set(xlabel='Poisson Distribution', ylabel='Frequency')"
   ]
  },
  {
   "cell_type": "code",
   "execution_count": 58,
   "id": "three-defensive",
   "metadata": {},
   "outputs": [],
   "source": [
    "X = df.drop(columns=['Roll_no','Names','Mark1','Mark3'])\n",
    "y = df['Mark2']"
   ]
  },
  {
   "cell_type": "code",
   "execution_count": 59,
   "id": "stone-chosen",
   "metadata": {},
   "outputs": [],
   "source": [
    "from sklearn.model_selection import cross_val_score\n",
    "from sklearn.metrics import mean_squared_error\n",
    "def train(model, X, y):\n",
    "    # train the model\n",
    "    model.fit(X, y)\n",
    "    \n",
    "    # predict the training set\n",
    "    pred = model.predict(X)\n",
    "    \n",
    "    # perform cross-validation\n",
    "    cv_score = cross_val_score(model, X, y, scoring='neg_mean_squared_error', cv=5)\n",
    "    cv_score = np.abs(np.mean(cv_score))\n",
    "    print(pred)\n",
    "    print(\"Model Report\")\n",
    "    print(\"MSE:\",mean_squared_error(y,pred))\n",
    "    print(\"CV Score:\", cv_score)"
   ]
  },
  {
   "cell_type": "code",
   "execution_count": 60,
   "id": "identical-verification",
   "metadata": {},
   "outputs": [
    {
     "name": "stdout",
     "output_type": "stream",
     "text": [
      "[90. 69. 95. 90. 99. 90. 90. 90. 99.]\n",
      "Model Report\n",
      "MSE: 4.4877420385906447e-29\n",
      "CV Score: 2.0194839173657903e-29\n"
     ]
    },
    {
     "data": {
      "text/plain": [
       "<AxesSubplot:title={'center':'Model Coefficients'}>"
      ]
     },
     "execution_count": 60,
     "metadata": {},
     "output_type": "execute_result"
    },
    {
     "data": {
      "image/png": "[encoded data removed]",
      "text/plain": [
       "<Figure size 432x288 with 1 Axes>"
      ]
     },
     "metadata": {
      "needs_background": "light"
     },
     "output_type": "display_data"
    }
   ],
   "source": [
    "from sklearn.linear_model import LinearRegression\n",
    "model = LinearRegression(normalize=True)\n",
    "train(model, X, y)\n",
    "coef = pd.Series(model.coef_, X.columns).sort_values()\n",
    "coef.plot(kind='bar', title=\"Model Coefficients\")"
   ]
  },
  {
   "cell_type": "code",
   "execution_count": 64,
   "id": "measured-territory",
   "metadata": {},
   "outputs": [
    {
     "name": "stdout",
     "output_type": "stream",
     "text": [
      "   Roll_no     Names  Mark1  Mark2  Mark3\n",
      "0  2032047   Theeraj    100     90     85\n",
      "1  2032045      ravi     45     69     89\n",
      "2  2032044       ram     98     95     96\n",
      "3  2032042  Sripathy    100     90     95\n",
      "4  2032041       Sri     90     99     88\n",
      "5  2032007    Balaji    100     90     95\n",
      "6  2032006    Avudai    100     90     95\n",
      "7  2032004      Anbu    100     90     95\n",
      "8  2032002    Akshay     90     99     95\n"
     ]
    }
   ],
   "source": [
    "df = pd.read_excel ('School Record.xlsx')\n",
    "print(df)"
   ]
  },
  {
   "cell_type": "code",
   "execution_count": 78,
   "id": "controversial-parameter",
   "metadata": {},
   "outputs": [
    {
     "name": "stdout",
     "output_type": "stream",
     "text": [
      "   Mark1  Mark2  Mark3\n",
      "0    100     90     85\n",
      "1     45     69     89\n",
      "2     98     95     96\n",
      "3    100     90     95\n",
      "4     90     99     88\n",
      "5    100     90     95\n",
      "6    100     90     95\n",
      "7    100     90     95\n",
      "8     90     99     95\n"
     ]
    }
   ],
   "source": [
    "w=df.iloc[0:9,2:5]\n",
    "print(w)\n"
   ]
  },
  {
   "cell_type": "code",
   "execution_count": 79,
   "id": "linear-lancaster",
   "metadata": {},
   "outputs": [
    {
     "data": {
      "text/plain": [
       "Mark1    91.444444\n",
       "Mark2    90.222222\n",
       "Mark3    92.555556\n",
       "dtype: float64"
      ]
     },
     "execution_count": 79,
     "metadata": {},
     "output_type": "execute_result"
    }
   ],
   "source": [
    "w.mean()"
   ]
  },
  {
   "cell_type": "code",
   "execution_count": 93,
   "id": "dominant-noise",
   "metadata": {},
   "outputs": [
    {
     "name": "stdout",
     "output_type": "stream",
     "text": [
      "91.40740733333332\n"
     ]
    }
   ],
   "source": [
    "totalmarks=91.444444+90.222222+92.555556\n",
    "tm=totalmarks/3\n",
    "print(tm)"
   ]
  },
  {
   "cell_type": "code",
   "execution_count": 119,
   "id": "proved-watson",
   "metadata": {},
   "outputs": [
    {
     "name": "stdout",
     "output_type": "stream",
     "text": [
      "[-4051.986562]\n"
     ]
    }
   ],
   "source": [
    "Year=[2019,2020]\n",
    "Total_Sale=[89.3562222,91.40740733333332]\n",
    "sale1= pd.DataFrame(Year, index =[1,2],columns =['Year'])\n",
    "sale2=pd.DataFrame(Total_Sale, index =[1,2],columns =['Total_Sale'])\n",
    "regressor = LinearRegression()\n",
    "regressor.fit(sale1,sale2)\n",
    "#regression intercept\n",
    "print(regressor.intercept_)"
   ]
  },
  {
   "cell_type": "code",
   "execution_count": 120,
   "id": "arctic-hampshire",
   "metadata": {},
   "outputs": [
    {
     "name": "stdout",
     "output_type": "stream",
     "text": [
      "[[2.05118513]]\n"
     ]
    }
   ],
   "source": [
    "print(regressor.coef_)"
   ]
  },
  {
   "cell_type": "code",
   "execution_count": 121,
   "id": "driving-penalty",
   "metadata": {},
   "outputs": [
    {
     "data": {
      "text/plain": [
       "array([[93.45859247]])"
      ]
     },
     "execution_count": 121,
     "metadata": {},
     "output_type": "execute_result"
    }
   ],
   "source": [
    "y=((regressor.coef_*2021)+regressor.intercept_)\n",
    "y"
   ]
  },
  {
   "cell_type": "code",
   "execution_count": 122,
   "id": "resident-fourth",
   "metadata": {},
   "outputs": [
    {
     "data": {
      "text/plain": [
       "(array([[93.45859247]]),\n",
       " array([[95.5097776]]),\n",
       " array([[97.56096273]]),\n",
       " array([[99.61214787]]),\n",
       " array([[101.663333]]),\n",
       " array([[103.71451813]]),\n",
       " array([[105.76570327]]),\n",
       " array([[107.8168884]]),\n",
       " array([[109.86807353]]))"
      ]
     },
     "execution_count": 122,
     "metadata": {},
     "output_type": "execute_result"
    }
   ],
   "source": [
    "y=((regressor.coef_*2021)+regressor.intercept_,(regressor.coef_*2022)+regressor.intercept_,(regressor.coef_*2023)+regressor.intercept_,(regressor.coef_*2024)+regressor.intercept_,(regressor.coef_*2025)+regressor.intercept_,(regressor.coef_*2026)+regressor.intercept_,(regressor.coef_*2027)+regressor.intercept_,(regressor.coef_*2028)+regressor.intercept_,(regressor.coef_*2029)+regressor.intercept_)\n",
    "y"
   ]
  },
  {
   "cell_type": "code",
   "execution_count": 123,
   "id": "atlantic-canberra",
   "metadata": {},
   "outputs": [
    {
     "data": {
      "text/html": [
       "<div>\n",
       "<style scoped>\n",
       "    .dataframe tbody tr th:only-of-type {\n",
       "        vertical-align: middle;\n",
       "    }\n",
       "\n",
       "    .dataframe tbody tr th {\n",
       "        vertical-align: top;\n",
       "    }\n",
       "\n",
       "    .dataframe thead th {\n",
       "        text-align: right;\n",
       "    }\n",
       "</style>\n",
       "<table border=\"1\" class=\"dataframe\">\n",
       "  <thead>\n",
       "    <tr style=\"text-align: right;\">\n",
       "      <th></th>\n",
       "      <th>Predicted_Years</th>\n",
       "      <th>Predicted_Sales</th>\n",
       "    </tr>\n",
       "  </thead>\n",
       "  <tbody>\n",
       "    <tr>\n",
       "      <th>0</th>\n",
       "      <td>2021</td>\n",
       "      <td>20909975</td>\n",
       "    </tr>\n",
       "    <tr>\n",
       "      <th>1</th>\n",
       "      <td>2022</td>\n",
       "      <td>23228825</td>\n",
       "    </tr>\n",
       "    <tr>\n",
       "      <th>2</th>\n",
       "      <td>2023</td>\n",
       "      <td>25547675</td>\n",
       "    </tr>\n",
       "    <tr>\n",
       "      <th>3</th>\n",
       "      <td>2024</td>\n",
       "      <td>27866525</td>\n",
       "    </tr>\n",
       "    <tr>\n",
       "      <th>4</th>\n",
       "      <td>2025</td>\n",
       "      <td>30185375</td>\n",
       "    </tr>\n",
       "    <tr>\n",
       "      <th>5</th>\n",
       "      <td>2026</td>\n",
       "      <td>32504225</td>\n",
       "    </tr>\n",
       "    <tr>\n",
       "      <th>6</th>\n",
       "      <td>2027</td>\n",
       "      <td>34823075</td>\n",
       "    </tr>\n",
       "    <tr>\n",
       "      <th>7</th>\n",
       "      <td>2028</td>\n",
       "      <td>37141925</td>\n",
       "    </tr>\n",
       "    <tr>\n",
       "      <th>8</th>\n",
       "      <td>2029</td>\n",
       "      <td>39460775</td>\n",
       "    </tr>\n",
       "  </tbody>\n",
       "</table>\n",
       "</div>"
      ],
      "text/plain": [
       "   Predicted_Years  Predicted_Sales\n",
       "0             2021         20909975\n",
       "1             2022         23228825\n",
       "2             2023         25547675\n",
       "3             2024         27866525\n",
       "4             2025         30185375\n",
       "5             2026         32504225\n",
       "6             2027         34823075\n",
       "7             2028         37141925\n",
       "8             2029         39460775"
      ]
     },
     "execution_count": 123,
     "metadata": {},
     "output_type": "execute_result"
    }
   ],
   "source": [
    "Predicted_Years=[2021,2022,2023,2024,2025,2026,2027,2028,2029]\n",
    "Predicted_Sales=[20909975,23228825,25547675,27866525,30185375,32504225,34823075,37141925,39460775]\n",
    "data_dict={'Predicted_Sales':pd.Series(Predicted_Sales)}\n",
    "data_dict1={'Predicted_Years':pd.Series(Predicted_Years),'Predicted_Sales':pd.Series(Predicted_Sales)}\n",
    "dframe=pd.DataFrame(data_dict)\n",
    "dframe1=pd.DataFrame(data_dict1)\n",
    "dframe1"
   ]
  },
  {
   "cell_type": "code",
   "execution_count": 140,
   "id": "endless-replication",
   "metadata": {},
   "outputs": [
    {
     "data": {
      "text/plain": [
       "Text(0.5, 0, 'Predicted_Months')"
      ]
     },
     "execution_count": 140,
     "metadata": {},
     "output_type": "execute_result"
    },
    {
     "data": {
      "image/png": "[encoded data removed]",
      "text/plain": [
       "<Figure size 432x288 with 1 Axes>"
      ]
     },
     "metadata": {
      "needs_background": "light"
     },
     "output_type": "display_data"
    }
   ],
   "source": [
    "dframe.plot.bar()\n",
    "plt.xlabel(\"Predicted_Months\")"
   ]
  }
 ],
 "metadata": {
  "kernelspec": {
   "display_name": "Python 3",
   "language": "python",
   "name": "python3"
  },
  "language_info": {
   "codemirror_mode": {
    "name": "ipython",
    "version": 3
   },
   "file_extension": ".py",
   "mimetype": "text/x-python",
   "name": "python",
   "nbconvert_exporter": "python",
   "pygments_lexer": "ipython3",
   "version": "3.9.2"
  }
 },
 "nbformat": 4,
 "nbformat_minor": 5
}
